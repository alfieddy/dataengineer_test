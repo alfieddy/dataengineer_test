{
 "cells": [
  {
   "cell_type": "code",
   "execution_count": null,
   "metadata": {},
   "outputs": [],
   "source": [
    "import snowflake.connector\n",
    "import pandas as pd\n",
    "\n",
    "# Set up connection parameters\n",
    "conn = snowflake.connector.connect(\n",
    "    user='dbt_USER',\n",
    "    password='xxxxx',\n",
    "    account='si62486.ap-southeast-2',\n",
    "    warehouse='dbt_DEV_WH',\n",
    "    database='demo_dbt',\n",
    "    schema='public'\n",
    ")\n",
    "\n",
    "# Execute the SQL query and read the results into a Pandas DataFrame\n",
    "df = pd.read_sql_query('select aesttime, quantity,unit from public.raw_nmi', conn)\n",
    "\n",
    "print(df.dtypes)\n",
    "\n",
    "profile = ProfileReport(df, title=\"Profiling Report\")\n",
    "\n",
    "profile.to_notebook_iframe()"
   ]
  },
  {
   "cell_type": "code",
   "execution_count": null,
   "metadata": {},
   "outputs": [],
   "source": [
    "import snowflake.connector\n",
    "import pandas as pd\n",
    "\n",
    "# Set up connection parameters\n",
    "conn = snowflake.connector.connect(\n",
    "    user='dbt_USER',\n",
    "    password='xxxxx',\n",
    "    account='si62486.ap-southeast-2',\n",
    "    warehouse='dbt_DEV_WH',\n",
    "    database='demo_dbt',\n",
    "    schema='public'\n",
    ")\n",
    "\n",
    "# Execute the SQL query and read the results into a Pandas DataFrame\n",
    "df = pd.read_sql_query(' select * from raw.public.nmi, conn)\n",
    "\n",
    "print(df.dtypes)\n",
    "\n",
    "profile = ProfileReport(df, title=\"Profiling Report\")\n",
    "\n",
    "profile.to_notebook_iframe()"
   ]
  }
 ],
 "metadata": {
  "language_info": {
   "name": "python"
  },
  "orig_nbformat": 4
 },
 "nbformat": 4,
 "nbformat_minor": 2
}
